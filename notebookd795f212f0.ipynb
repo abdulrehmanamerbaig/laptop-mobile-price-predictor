{
 "cells": [
  {
   "cell_type": "code",
   "execution_count": 1,
   "id": "419035f7",
   "metadata": {
    "execution": {
     "iopub.execute_input": "2024-02-02T14:24:14.898053Z",
     "iopub.status.busy": "2024-02-02T14:24:14.897248Z",
     "iopub.status.idle": "2024-02-02T14:24:17.928733Z",
     "shell.execute_reply": "2024-02-02T14:24:17.927523Z"
    },
    "papermill": {
     "duration": 3.053872,
     "end_time": "2024-02-02T14:24:17.931940",
     "exception": false,
     "start_time": "2024-02-02T14:24:14.878068",
     "status": "completed"
    },
    "tags": []
   },
   "outputs": [],
   "source": [
    "import pandas as pd\n",
    "import numpy as np\n",
    "from sklearn.preprocessing import OneHotEncoder\n",
    "from sklearn.preprocessing import StandardScaler\n",
    "from sklearn.compose import ColumnTransformer\n",
    "from sklearn.ensemble import RandomForestRegressor,GradientBoostingRegressor\n",
    "from sklearn.linear_model import LinearRegression\n",
    "from sklearn.neighbors import KNeighborsRegressor\n",
    "from sklearn.metrics import r2_score,mean_absolute_error\n",
    "import seaborn as sns\n",
    "import matplotlib.pyplot as plt"
   ]
  },
  {
   "cell_type": "code",
   "execution_count": 2,
   "id": "513471e5",
   "metadata": {
    "execution": {
     "iopub.execute_input": "2024-02-02T14:24:17.966133Z",
     "iopub.status.busy": "2024-02-02T14:24:17.965552Z",
     "iopub.status.idle": "2024-02-02T14:24:18.014507Z",
     "shell.execute_reply": "2024-02-02T14:24:18.013240Z"
    },
    "papermill": {
     "duration": 0.069305,
     "end_time": "2024-02-02T14:24:18.017185",
     "exception": false,
     "start_time": "2024-02-02T14:24:17.947880",
     "status": "completed"
    },
    "tags": []
   },
   "outputs": [
    {
     "data": {
      "text/html": [
       "<div>\n",
       "<style scoped>\n",
       "    .dataframe tbody tr th:only-of-type {\n",
       "        vertical-align: middle;\n",
       "    }\n",
       "\n",
       "    .dataframe tbody tr th {\n",
       "        vertical-align: top;\n",
       "    }\n",
       "\n",
       "    .dataframe thead th {\n",
       "        text-align: right;\n",
       "    }\n",
       "</style>\n",
       "<table border=\"1\" class=\"dataframe\">\n",
       "  <thead>\n",
       "    <tr style=\"text-align: right;\">\n",
       "      <th></th>\n",
       "      <th>Unnamed: 0</th>\n",
       "      <th>Brand</th>\n",
       "      <th>Model Name</th>\n",
       "      <th>Processor</th>\n",
       "      <th>Operating System</th>\n",
       "      <th>Storage</th>\n",
       "      <th>RAM</th>\n",
       "      <th>Screen Size</th>\n",
       "      <th>Touch_Screen</th>\n",
       "      <th>Price</th>\n",
       "    </tr>\n",
       "  </thead>\n",
       "  <tbody>\n",
       "    <tr>\n",
       "      <th>0</th>\n",
       "      <td>0</td>\n",
       "      <td>HP</td>\n",
       "      <td>15s-fq5007TU</td>\n",
       "      <td>Core i3</td>\n",
       "      <td>Windows 11 Home</td>\n",
       "      <td>512 GB</td>\n",
       "      <td>8 GB</td>\n",
       "      <td>39.62 cm (15.6 Inch)</td>\n",
       "      <td>No</td>\n",
       "      <td>₹38,990</td>\n",
       "    </tr>\n",
       "    <tr>\n",
       "      <th>1</th>\n",
       "      <td>1</td>\n",
       "      <td>HP</td>\n",
       "      <td>15s-fy5003TU</td>\n",
       "      <td>Core i3</td>\n",
       "      <td>Windows 11 Home</td>\n",
       "      <td>512 GB</td>\n",
       "      <td>8 GB</td>\n",
       "      <td>39.62 cm (15.6 Inch)</td>\n",
       "      <td>No</td>\n",
       "      <td>₹37,990</td>\n",
       "    </tr>\n",
       "    <tr>\n",
       "      <th>2</th>\n",
       "      <td>2</td>\n",
       "      <td>Apple</td>\n",
       "      <td>2020 Macbook Air</td>\n",
       "      <td>M1</td>\n",
       "      <td>Mac OS Big Sur</td>\n",
       "      <td>256 GB</td>\n",
       "      <td>8 GB</td>\n",
       "      <td>33.78 cm (13.3 inch)</td>\n",
       "      <td>No</td>\n",
       "      <td>₹70,990</td>\n",
       "    </tr>\n",
       "    <tr>\n",
       "      <th>3</th>\n",
       "      <td>3</td>\n",
       "      <td>Apple</td>\n",
       "      <td>2020 Macbook Air</td>\n",
       "      <td>M1</td>\n",
       "      <td>Mac OS Big Sur</td>\n",
       "      <td>256 GB</td>\n",
       "      <td>8 GB</td>\n",
       "      <td>33.78 cm (13.3 inch)</td>\n",
       "      <td>No</td>\n",
       "      <td>₹70,990</td>\n",
       "    </tr>\n",
       "    <tr>\n",
       "      <th>4</th>\n",
       "      <td>4</td>\n",
       "      <td>Apple</td>\n",
       "      <td>2020 Macbook Air</td>\n",
       "      <td>M1</td>\n",
       "      <td>Mac OS Big Sur</td>\n",
       "      <td>256 GB</td>\n",
       "      <td>8 GB</td>\n",
       "      <td>33.78 cm (13.3 inch)</td>\n",
       "      <td>No</td>\n",
       "      <td>₹70,990</td>\n",
       "    </tr>\n",
       "  </tbody>\n",
       "</table>\n",
       "</div>"
      ],
      "text/plain": [
       "   Unnamed: 0  Brand        Model Name Processor Operating System Storage  \\\n",
       "0           0     HP      15s-fq5007TU   Core i3  Windows 11 Home  512 GB   \n",
       "1           1     HP      15s-fy5003TU   Core i3  Windows 11 Home  512 GB   \n",
       "2           2  Apple  2020 Macbook Air        M1   Mac OS Big Sur  256 GB   \n",
       "3           3  Apple  2020 Macbook Air        M1   Mac OS Big Sur  256 GB   \n",
       "4           4  Apple  2020 Macbook Air        M1   Mac OS Big Sur  256 GB   \n",
       "\n",
       "    RAM           Screen Size Touch_Screen    Price  \n",
       "0  8 GB  39.62 cm (15.6 Inch)           No  ₹38,990  \n",
       "1  8 GB  39.62 cm (15.6 Inch)           No  ₹37,990  \n",
       "2  8 GB  33.78 cm (13.3 inch)           No  ₹70,990  \n",
       "3  8 GB  33.78 cm (13.3 inch)           No  ₹70,990  \n",
       "4  8 GB  33.78 cm (13.3 inch)           No  ₹70,990  "
      ]
     },
     "execution_count": 2,
     "metadata": {},
     "output_type": "execute_result"
    }
   ],
   "source": [
    "df= pd.read_csv(\"Laptops.csv\")\n",
    "df.head()"
   ]
  },
  {
   "cell_type": "code",
   "execution_count": 3,
   "id": "0e0df50b",
   "metadata": {
    "execution": {
     "iopub.execute_input": "2024-02-02T14:24:18.050415Z",
     "iopub.status.busy": "2024-02-02T14:24:18.050023Z",
     "iopub.status.idle": "2024-02-02T14:24:18.083907Z",
     "shell.execute_reply": "2024-02-02T14:24:18.081441Z"
    },
    "papermill": {
     "duration": 0.053717,
     "end_time": "2024-02-02T14:24:18.086726",
     "exception": false,
     "start_time": "2024-02-02T14:24:18.033009",
     "status": "completed"
    },
    "tags": []
   },
   "outputs": [
    {
     "name": "stdout",
     "output_type": "stream",
     "text": [
      "<class 'pandas.core.frame.DataFrame'>\n",
      "RangeIndex: 837 entries, 0 to 836\n",
      "Data columns (total 10 columns):\n",
      " #   Column            Non-Null Count  Dtype \n",
      "---  ------            --------------  ----- \n",
      " 0   Unnamed: 0        837 non-null    int64 \n",
      " 1   Brand             837 non-null    object\n",
      " 2   Model Name        837 non-null    object\n",
      " 3   Processor         837 non-null    object\n",
      " 4   Operating System  837 non-null    object\n",
      " 5   Storage           825 non-null    object\n",
      " 6   RAM               837 non-null    object\n",
      " 7   Screen Size       837 non-null    object\n",
      " 8   Touch_Screen      837 non-null    object\n",
      " 9   Price             837 non-null    object\n",
      "dtypes: int64(1), object(9)\n",
      "memory usage: 65.5+ KB\n"
     ]
    }
   ],
   "source": [
    "df.info()"
   ]
  },
  {
   "cell_type": "code",
   "execution_count": 4,
   "id": "f82fbd05",
   "metadata": {
    "execution": {
     "iopub.execute_input": "2024-02-02T14:24:18.121327Z",
     "iopub.status.busy": "2024-02-02T14:24:18.120891Z",
     "iopub.status.idle": "2024-02-02T14:24:18.131457Z",
     "shell.execute_reply": "2024-02-02T14:24:18.130346Z"
    },
    "papermill": {
     "duration": 0.031428,
     "end_time": "2024-02-02T14:24:18.134148",
     "exception": false,
     "start_time": "2024-02-02T14:24:18.102720",
     "status": "completed"
    },
    "tags": []
   },
   "outputs": [
    {
     "data": {
      "text/plain": [
       "0"
      ]
     },
     "execution_count": 4,
     "metadata": {},
     "output_type": "execute_result"
    }
   ],
   "source": [
    "df.duplicated().sum()"
   ]
  },
  {
   "cell_type": "code",
   "execution_count": 5,
   "id": "ac88d16c",
   "metadata": {
    "execution": {
     "iopub.execute_input": "2024-02-02T14:24:18.168518Z",
     "iopub.status.busy": "2024-02-02T14:24:18.167574Z",
     "iopub.status.idle": "2024-02-02T14:24:18.177448Z",
     "shell.execute_reply": "2024-02-02T14:24:18.176321Z"
    },
    "papermill": {
     "duration": 0.029566,
     "end_time": "2024-02-02T14:24:18.179944",
     "exception": false,
     "start_time": "2024-02-02T14:24:18.150378",
     "status": "completed"
    },
    "tags": []
   },
   "outputs": [
    {
     "data": {
      "text/plain": [
       "Unnamed: 0           0\n",
       "Brand                0\n",
       "Model Name           0\n",
       "Processor            0\n",
       "Operating System     0\n",
       "Storage             12\n",
       "RAM                  0\n",
       "Screen Size          0\n",
       "Touch_Screen         0\n",
       "Price                0\n",
       "dtype: int64"
      ]
     },
     "execution_count": 5,
     "metadata": {},
     "output_type": "execute_result"
    }
   ],
   "source": [
    "df.isnull().sum()"
   ]
  },
  {
   "cell_type": "code",
   "execution_count": 6,
   "id": "0a545207",
   "metadata": {
    "execution": {
     "iopub.execute_input": "2024-02-02T14:24:18.214630Z",
     "iopub.status.busy": "2024-02-02T14:24:18.214245Z",
     "iopub.status.idle": "2024-02-02T14:24:18.224220Z",
     "shell.execute_reply": "2024-02-02T14:24:18.223403Z"
    },
    "papermill": {
     "duration": 0.029925,
     "end_time": "2024-02-02T14:24:18.226543",
     "exception": false,
     "start_time": "2024-02-02T14:24:18.196618",
     "status": "completed"
    },
    "tags": []
   },
   "outputs": [
    {
     "data": {
      "text/plain": [
       "(825, 10)"
      ]
     },
     "execution_count": 6,
     "metadata": {},
     "output_type": "execute_result"
    }
   ],
   "source": [
    "df.dropna(inplace=True)\n",
    "df.shape"
   ]
  },
  {
   "cell_type": "code",
   "execution_count": 7,
   "id": "508fff1b",
   "metadata": {
    "execution": {
     "iopub.execute_input": "2024-02-02T14:24:18.261124Z",
     "iopub.status.busy": "2024-02-02T14:24:18.260731Z",
     "iopub.status.idle": "2024-02-02T14:24:18.269110Z",
     "shell.execute_reply": "2024-02-02T14:24:18.267803Z"
    },
    "papermill": {
     "duration": 0.028721,
     "end_time": "2024-02-02T14:24:18.271689",
     "exception": false,
     "start_time": "2024-02-02T14:24:18.242968",
     "status": "completed"
    },
    "tags": []
   },
   "outputs": [],
   "source": [
    "df.drop(columns='Unnamed: 0',inplace=True)"
   ]
  },
  {
   "cell_type": "code",
   "execution_count": 8,
   "id": "91988126",
   "metadata": {
    "execution": {
     "iopub.execute_input": "2024-02-02T14:24:18.306392Z",
     "iopub.status.busy": "2024-02-02T14:24:18.305967Z",
     "iopub.status.idle": "2024-02-02T14:24:18.314428Z",
     "shell.execute_reply": "2024-02-02T14:24:18.313620Z"
    },
    "papermill": {
     "duration": 0.028424,
     "end_time": "2024-02-02T14:24:18.316587",
     "exception": false,
     "start_time": "2024-02-02T14:24:18.288163",
     "status": "completed"
    },
    "tags": []
   },
   "outputs": [
    {
     "data": {
      "text/plain": [
       "Windows 11 Home    747\n",
       "Windows 10 Home     27\n",
       "Chrome              13\n",
       "Windows 10          10\n",
       "DOS                  7\n",
       "Mac OS Monterey      5\n",
       "Windows 11 Pro       5\n",
       "Mac OS Big Sur       3\n",
       "Windows 10 Pro       3\n",
       "Prime OS             1\n",
       "Ubuntu               1\n",
       "macOS Ventura        1\n",
       "macOS Sonoma         1\n",
       "Mac OS Mojave        1\n",
       "Name: Operating System, dtype: int64"
      ]
     },
     "execution_count": 8,
     "metadata": {},
     "output_type": "execute_result"
    }
   ],
   "source": [
    "df['Operating System'].value_counts()"
   ]
  },
  {
   "cell_type": "code",
   "execution_count": 9,
   "id": "9d3e267f",
   "metadata": {
    "execution": {
     "iopub.execute_input": "2024-02-02T14:24:18.351834Z",
     "iopub.status.busy": "2024-02-02T14:24:18.351400Z",
     "iopub.status.idle": "2024-02-02T14:24:18.359460Z",
     "shell.execute_reply": "2024-02-02T14:24:18.358168Z"
    },
    "papermill": {
     "duration": 0.028553,
     "end_time": "2024-02-02T14:24:18.362001",
     "exception": false,
     "start_time": "2024-02-02T14:24:18.333448",
     "status": "completed"
    },
    "tags": []
   },
   "outputs": [],
   "source": [
    "def os(data):\n",
    "    if 'windows' in data.lower():\n",
    "        return \"Windows\"\n",
    "    elif 'mac' in data.lower():\n",
    "        return \"Mac\"\n",
    "    else:\n",
    "        return \"Others\"\n",
    "\n",
    "df['Operating System'] = df['Operating System'].apply(os)\n"
   ]
  },
  {
   "cell_type": "code",
   "execution_count": 10,
   "id": "47e286a7",
   "metadata": {
    "execution": {
     "iopub.execute_input": "2024-02-02T14:24:18.396474Z",
     "iopub.status.busy": "2024-02-02T14:24:18.396059Z",
     "iopub.status.idle": "2024-02-02T14:24:18.403583Z",
     "shell.execute_reply": "2024-02-02T14:24:18.402512Z"
    },
    "papermill": {
     "duration": 0.0275,
     "end_time": "2024-02-02T14:24:18.405899",
     "exception": false,
     "start_time": "2024-02-02T14:24:18.378399",
     "status": "completed"
    },
    "tags": []
   },
   "outputs": [],
   "source": [
    "df[\"Processor\"] = df['Processor'].apply(lambda x:\" \".join(x.split()[0:2]))"
   ]
  },
  {
   "cell_type": "code",
   "execution_count": 11,
   "id": "5a185471",
   "metadata": {
    "execution": {
     "iopub.execute_input": "2024-02-02T14:24:18.440210Z",
     "iopub.status.busy": "2024-02-02T14:24:18.439645Z",
     "iopub.status.idle": "2024-02-02T14:24:18.448526Z",
     "shell.execute_reply": "2024-02-02T14:24:18.447559Z"
    },
    "papermill": {
     "duration": 0.028598,
     "end_time": "2024-02-02T14:24:18.450795",
     "exception": false,
     "start_time": "2024-02-02T14:24:18.422197",
     "status": "completed"
    },
    "tags": []
   },
   "outputs": [
    {
     "data": {
      "text/plain": [
       "Core i5              361\n",
       "Core i3              159\n",
       "Ryzen 5               94\n",
       "Core i7               68\n",
       "Ryzen 7               68\n",
       "Ryzen 3               20\n",
       "Celeron Dual          15\n",
       "Celeron Quad          10\n",
       "Pentium Silver         4\n",
       "Core i9                4\n",
       "Ryzen 9                3\n",
       "Athlon Dual            3\n",
       "MediaTek Kompanio      3\n",
       "M1                     3\n",
       "M2                     3\n",
       "Ryzen Z1               2\n",
       "MediaTek MT8788        1\n",
       "M1 Max                 1\n",
       "M2 Max                 1\n",
       "M3 Pro                 1\n",
       "M1 Pro                 1\n",
       "Name: Processor, dtype: int64"
      ]
     },
     "execution_count": 11,
     "metadata": {},
     "output_type": "execute_result"
    }
   ],
   "source": [
    "df['Processor'].value_counts()"
   ]
  },
  {
   "cell_type": "code",
   "execution_count": 12,
   "id": "f7502434",
   "metadata": {
    "execution": {
     "iopub.execute_input": "2024-02-02T14:24:18.485965Z",
     "iopub.status.busy": "2024-02-02T14:24:18.485212Z",
     "iopub.status.idle": "2024-02-02T14:24:18.494855Z",
     "shell.execute_reply": "2024-02-02T14:24:18.493459Z"
    },
    "papermill": {
     "duration": 0.030017,
     "end_time": "2024-02-02T14:24:18.497324",
     "exception": false,
     "start_time": "2024-02-02T14:24:18.467307",
     "status": "completed"
    },
    "tags": []
   },
   "outputs": [],
   "source": [
    "def processor(text):\n",
    "    if \"Celeron\" in text:\n",
    "        return \"Celeron\"\n",
    "    elif \"Core\" in text:\n",
    "        if \"9\" in text:\n",
    "            return \"Others\"\n",
    "        else:\n",
    "            return text\n",
    "    elif \"Ryzen\" in text:\n",
    "        if any(m in text for m in ['Z1', \"9\"]):\n",
    "            return \"Others\"\n",
    "        else:\n",
    "            return text\n",
    "    elif any(m in text for m in [\"M1\", \"M2\", \"M3\"]):\n",
    "        return \"Mac\"\n",
    "    else:\n",
    "        return \"Others\"\n",
    "\n",
    "df[\"Processor\"] = df['Processor'].apply(processor)"
   ]
  },
  {
   "cell_type": "code",
   "execution_count": 13,
   "id": "80c49196",
   "metadata": {
    "execution": {
     "iopub.execute_input": "2024-02-02T14:24:18.532655Z",
     "iopub.status.busy": "2024-02-02T14:24:18.532208Z",
     "iopub.status.idle": "2024-02-02T14:24:18.541659Z",
     "shell.execute_reply": "2024-02-02T14:24:18.540546Z"
    },
    "papermill": {
     "duration": 0.029982,
     "end_time": "2024-02-02T14:24:18.544112",
     "exception": false,
     "start_time": "2024-02-02T14:24:18.514130",
     "status": "completed"
    },
    "tags": []
   },
   "outputs": [
    {
     "data": {
      "text/plain": [
       "Core i5    361\n",
       "Core i3    159\n",
       "Ryzen 5     94\n",
       "Core i7     68\n",
       "Ryzen 7     68\n",
       "Celeron     25\n",
       "Ryzen 3     20\n",
       "Others      20\n",
       "Mac         10\n",
       "Name: Processor, dtype: int64"
      ]
     },
     "execution_count": 13,
     "metadata": {},
     "output_type": "execute_result"
    }
   ],
   "source": [
    "df.Processor.value_counts()"
   ]
  },
  {
   "cell_type": "code",
   "execution_count": 14,
   "id": "18e04623",
   "metadata": {
    "execution": {
     "iopub.execute_input": "2024-02-02T14:24:18.579935Z",
     "iopub.status.busy": "2024-02-02T14:24:18.579518Z",
     "iopub.status.idle": "2024-02-02T14:24:18.599367Z",
     "shell.execute_reply": "2024-02-02T14:24:18.598570Z"
    },
    "papermill": {
     "duration": 0.040047,
     "end_time": "2024-02-02T14:24:18.601360",
     "exception": false,
     "start_time": "2024-02-02T14:24:18.561313",
     "status": "completed"
    },
    "tags": []
   },
   "outputs": [
    {
     "data": {
      "text/html": [
       "<div>\n",
       "<style scoped>\n",
       "    .dataframe tbody tr th:only-of-type {\n",
       "        vertical-align: middle;\n",
       "    }\n",
       "\n",
       "    .dataframe tbody tr th {\n",
       "        vertical-align: top;\n",
       "    }\n",
       "\n",
       "    .dataframe thead th {\n",
       "        text-align: right;\n",
       "    }\n",
       "</style>\n",
       "<table border=\"1\" class=\"dataframe\">\n",
       "  <thead>\n",
       "    <tr style=\"text-align: right;\">\n",
       "      <th></th>\n",
       "      <th>Brand</th>\n",
       "      <th>Model Name</th>\n",
       "      <th>Processor</th>\n",
       "      <th>Operating System</th>\n",
       "      <th>Storage</th>\n",
       "      <th>RAM</th>\n",
       "      <th>Screen Size</th>\n",
       "      <th>Touch_Screen</th>\n",
       "      <th>Price</th>\n",
       "    </tr>\n",
       "  </thead>\n",
       "  <tbody>\n",
       "    <tr>\n",
       "      <th>135</th>\n",
       "      <td>HP</td>\n",
       "      <td>14-dv2014TU</td>\n",
       "      <td>Core i5</td>\n",
       "      <td>Windows</td>\n",
       "      <td>512</td>\n",
       "      <td>16 GB</td>\n",
       "      <td>35.56 cm (14 inch)</td>\n",
       "      <td>No</td>\n",
       "      <td>₹63,999</td>\n",
       "    </tr>\n",
       "    <tr>\n",
       "      <th>74</th>\n",
       "      <td>Lenovo</td>\n",
       "      <td>15ACH6</td>\n",
       "      <td>Ryzen 5</td>\n",
       "      <td>Windows</td>\n",
       "      <td>512</td>\n",
       "      <td>8 GB</td>\n",
       "      <td>100.63 cm (39.62 cm)</td>\n",
       "      <td>No</td>\n",
       "      <td>₹45,990</td>\n",
       "    </tr>\n",
       "    <tr>\n",
       "      <th>56</th>\n",
       "      <td>HP</td>\n",
       "      <td>14-dv2153TU</td>\n",
       "      <td>Core i5</td>\n",
       "      <td>Windows</td>\n",
       "      <td>1000</td>\n",
       "      <td>16 GB</td>\n",
       "      <td>35.56 cm (14 inch)</td>\n",
       "      <td>No</td>\n",
       "      <td>₹66,999</td>\n",
       "    </tr>\n",
       "    <tr>\n",
       "      <th>602</th>\n",
       "      <td>HP</td>\n",
       "      <td>15s-fy5003TU</td>\n",
       "      <td>Core i3</td>\n",
       "      <td>Windows</td>\n",
       "      <td>512</td>\n",
       "      <td>8 GB</td>\n",
       "      <td>39.62 cm (15.6 Inch)</td>\n",
       "      <td>No</td>\n",
       "      <td>₹37,990</td>\n",
       "    </tr>\n",
       "    <tr>\n",
       "      <th>410</th>\n",
       "      <td>HP</td>\n",
       "      <td>15s- fr5011TU</td>\n",
       "      <td>Core i5</td>\n",
       "      <td>Windows</td>\n",
       "      <td>512</td>\n",
       "      <td>16 GB</td>\n",
       "      <td>39.62 cm (15.6 inch)</td>\n",
       "      <td>No</td>\n",
       "      <td>₹53,990</td>\n",
       "    </tr>\n",
       "  </tbody>\n",
       "</table>\n",
       "</div>"
      ],
      "text/plain": [
       "      Brand     Model Name Processor Operating System Storage    RAM  \\\n",
       "135      HP    14-dv2014TU   Core i5          Windows     512  16 GB   \n",
       "74   Lenovo         15ACH6   Ryzen 5          Windows     512   8 GB   \n",
       "56       HP    14-dv2153TU   Core i5          Windows    1000  16 GB   \n",
       "602      HP   15s-fy5003TU   Core i3          Windows     512   8 GB   \n",
       "410      HP  15s- fr5011TU   Core i5          Windows     512  16 GB   \n",
       "\n",
       "              Screen Size Touch_Screen    Price  \n",
       "135    35.56 cm (14 inch)           No  ₹63,999  \n",
       "74   100.63 cm (39.62 cm)           No  ₹45,990  \n",
       "56     35.56 cm (14 inch)           No  ₹66,999  \n",
       "602  39.62 cm (15.6 Inch)           No  ₹37,990  \n",
       "410  39.62 cm (15.6 inch)           No  ₹53,990  "
      ]
     },
     "execution_count": 14,
     "metadata": {},
     "output_type": "execute_result"
    }
   ],
   "source": [
    "df['Storage'] = df['Storage'].str.replace(\"GB\",\"\")\n",
    "df['Storage'] = df['Storage'].str.replace(\"TB\",\"000\")\n",
    "df['Storage'] = df['Storage'].str.replace(\" \",\"\")\n",
    "df.sample(5)"
   ]
  },
  {
   "cell_type": "code",
   "execution_count": 15,
   "id": "c7d10912",
   "metadata": {
    "execution": {
     "iopub.execute_input": "2024-02-02T14:24:18.638025Z",
     "iopub.status.busy": "2024-02-02T14:24:18.637543Z",
     "iopub.status.idle": "2024-02-02T14:24:18.655175Z",
     "shell.execute_reply": "2024-02-02T14:24:18.654031Z"
    },
    "papermill": {
     "duration": 0.039197,
     "end_time": "2024-02-02T14:24:18.657542",
     "exception": false,
     "start_time": "2024-02-02T14:24:18.618345",
     "status": "completed"
    },
    "tags": []
   },
   "outputs": [
    {
     "data": {
      "text/html": [
       "<div>\n",
       "<style scoped>\n",
       "    .dataframe tbody tr th:only-of-type {\n",
       "        vertical-align: middle;\n",
       "    }\n",
       "\n",
       "    .dataframe tbody tr th {\n",
       "        vertical-align: top;\n",
       "    }\n",
       "\n",
       "    .dataframe thead th {\n",
       "        text-align: right;\n",
       "    }\n",
       "</style>\n",
       "<table border=\"1\" class=\"dataframe\">\n",
       "  <thead>\n",
       "    <tr style=\"text-align: right;\">\n",
       "      <th></th>\n",
       "      <th>Brand</th>\n",
       "      <th>Model Name</th>\n",
       "      <th>Processor</th>\n",
       "      <th>Operating System</th>\n",
       "      <th>Storage</th>\n",
       "      <th>RAM</th>\n",
       "      <th>Screen Size</th>\n",
       "      <th>Touch_Screen</th>\n",
       "      <th>Price</th>\n",
       "    </tr>\n",
       "  </thead>\n",
       "  <tbody>\n",
       "    <tr>\n",
       "      <th>521</th>\n",
       "      <td>Acer</td>\n",
       "      <td>Aspire 5 Gaming</td>\n",
       "      <td>Core i5</td>\n",
       "      <td>Windows</td>\n",
       "      <td>512</td>\n",
       "      <td>8</td>\n",
       "      <td>39.62 cm (15.6 inch)</td>\n",
       "      <td>No</td>\n",
       "      <td>₹54,990</td>\n",
       "    </tr>\n",
       "    <tr>\n",
       "      <th>460</th>\n",
       "      <td>HP</td>\n",
       "      <td>15s-fy5003TU</td>\n",
       "      <td>Core i3</td>\n",
       "      <td>Windows</td>\n",
       "      <td>512</td>\n",
       "      <td>8</td>\n",
       "      <td>39.62 cm (15.6 Inch)</td>\n",
       "      <td>No</td>\n",
       "      <td>₹37,990</td>\n",
       "    </tr>\n",
       "    <tr>\n",
       "      <th>624</th>\n",
       "      <td>ASUS</td>\n",
       "      <td>Pro 15 OLED</td>\n",
       "      <td>Ryzen 7</td>\n",
       "      <td>Windows</td>\n",
       "      <td>512</td>\n",
       "      <td>16</td>\n",
       "      <td>39.62 cm (15.6 inch)</td>\n",
       "      <td>Yes</td>\n",
       "      <td>₹74,990</td>\n",
       "    </tr>\n",
       "    <tr>\n",
       "      <th>822</th>\n",
       "      <td>HP</td>\n",
       "      <td>15s</td>\n",
       "      <td>Ryzen 5</td>\n",
       "      <td>Windows</td>\n",
       "      <td>512</td>\n",
       "      <td>8</td>\n",
       "      <td>39.62 cm (15.6 inch)</td>\n",
       "      <td>No</td>\n",
       "      <td>₹24,831</td>\n",
       "    </tr>\n",
       "    <tr>\n",
       "      <th>752</th>\n",
       "      <td>ASUS</td>\n",
       "      <td>B9450FA-BM0696R</td>\n",
       "      <td>Core i7</td>\n",
       "      <td>Windows</td>\n",
       "      <td>1000</td>\n",
       "      <td>16</td>\n",
       "      <td>35.56 cm (14 inch)</td>\n",
       "      <td>No</td>\n",
       "      <td>₹1,52,711</td>\n",
       "    </tr>\n",
       "  </tbody>\n",
       "</table>\n",
       "</div>"
      ],
      "text/plain": [
       "    Brand       Model Name Processor Operating System Storage  RAM  \\\n",
       "521  Acer  Aspire 5 Gaming   Core i5          Windows     512   8    \n",
       "460    HP     15s-fy5003TU   Core i3          Windows     512   8    \n",
       "624  ASUS      Pro 15 OLED   Ryzen 7          Windows     512  16    \n",
       "822    HP              15s   Ryzen 5          Windows     512   8    \n",
       "752  ASUS  B9450FA-BM0696R   Core i7          Windows    1000  16    \n",
       "\n",
       "              Screen Size Touch_Screen      Price  \n",
       "521  39.62 cm (15.6 inch)           No    ₹54,990  \n",
       "460  39.62 cm (15.6 Inch)           No    ₹37,990  \n",
       "624  39.62 cm (15.6 inch)          Yes    ₹74,990  \n",
       "822  39.62 cm (15.6 inch)           No    ₹24,831  \n",
       "752    35.56 cm (14 inch)           No  ₹1,52,711  "
      ]
     },
     "execution_count": 15,
     "metadata": {},
     "output_type": "execute_result"
    }
   ],
   "source": [
    "df['RAM'] = df['RAM'].str.replace(\"GB\",\"\")\n",
    "df.sample(5)"
   ]
  },
  {
   "cell_type": "code",
   "execution_count": 16,
   "id": "415eff8c",
   "metadata": {
    "execution": {
     "iopub.execute_input": "2024-02-02T14:24:18.696779Z",
     "iopub.status.busy": "2024-02-02T14:24:18.695641Z",
     "iopub.status.idle": "2024-02-02T14:24:18.706480Z",
     "shell.execute_reply": "2024-02-02T14:24:18.705344Z"
    },
    "papermill": {
     "duration": 0.032267,
     "end_time": "2024-02-02T14:24:18.709044",
     "exception": false,
     "start_time": "2024-02-02T14:24:18.676777",
     "status": "completed"
    },
    "tags": []
   },
   "outputs": [
    {
     "data": {
      "text/plain": [
       "39.62 cm (15.6 Inch)     363\n",
       "39.62 cm (15.6 inch)     184\n",
       "35.56 cm (14 inch)       124\n",
       "35.56 cm (14 Inch)        49\n",
       "40.64 cm (16 Inch)        19\n",
       "33.78 cm (13.3 inch)      10\n",
       "40.64 cm (16 inch)         8\n",
       "40.89 cm (16.1 Inch)       7\n",
       "43.94 cm (17.3 Inch)       6\n",
       "33.78 cm (13.3 Inch)       6\n",
       "96.52 cm (38 cm)           6\n",
       "38.1 cm (15 inch)          4\n",
       "35.81 cm (14.1 inch)       3\n",
       "40.89 cm (16.1 inch)       3\n",
       "39.01 cm (15.36 inch)      3\n",
       "34.29 cm (13.5 inch)       3\n",
       "35.81 cm (14.1 Inch)       2\n",
       "33.02 cm (13 inch)         2\n",
       "100.63 cm (39.62 cm)       2\n",
       "17.78 cm (7 Inch)          2\n",
       "43.94 cm (17.3 inch)       2\n",
       "34.29 cm (13.5 Inch)       2\n",
       "38.86 cm (15.3 Inch)       1\n",
       "31.5 cm (12.4 Inch)        1\n",
       "36.07 cm (14.2 inch)       1\n",
       "38.0 cm (14.96 cm)         1\n",
       "90.32 cm (35.56 cm)        1\n",
       "30.48 cm (12 inch)         1\n",
       "29.46 cm (11.6 Inch)       1\n",
       "41.15 cm (16.2 inch)       1\n",
       "34.04 cm (13.4 inch)       1\n",
       "35.0 cm (13.78 inch)       1\n",
       "34.04 cm (13.4 Inch)       1\n",
       "26.67 cm (10.5 inch)       1\n",
       "38.0 cm (14.96 Inch)       1\n",
       "34.54 cm (13.6 Inch)       1\n",
       "29.46 cm (11.6 inch)       1\n",
       "Name: Screen Size, dtype: int64"
      ]
     },
     "execution_count": 16,
     "metadata": {},
     "output_type": "execute_result"
    }
   ],
   "source": [
    "df['Screen Size'].value_counts()"
   ]
  },
  {
   "cell_type": "code",
   "execution_count": 17,
   "id": "30f0c8d4",
   "metadata": {
    "execution": {
     "iopub.execute_input": "2024-02-02T14:24:18.746410Z",
     "iopub.status.busy": "2024-02-02T14:24:18.746011Z",
     "iopub.status.idle": "2024-02-02T14:24:18.753275Z",
     "shell.execute_reply": "2024-02-02T14:24:18.752121Z"
    },
    "papermill": {
     "duration": 0.02897,
     "end_time": "2024-02-02T14:24:18.755815",
     "exception": false,
     "start_time": "2024-02-02T14:24:18.726845",
     "status": "completed"
    },
    "tags": []
   },
   "outputs": [],
   "source": [
    "df['Screen Size'] = df['Screen Size'].apply(lambda x:\"\".join(x.split(\" \")[0]))"
   ]
  },
  {
   "cell_type": "code",
   "execution_count": 18,
   "id": "8609e1ab",
   "metadata": {
    "execution": {
     "iopub.execute_input": "2024-02-02T14:24:18.793337Z",
     "iopub.status.busy": "2024-02-02T14:24:18.792157Z",
     "iopub.status.idle": "2024-02-02T14:24:18.811683Z",
     "shell.execute_reply": "2024-02-02T14:24:18.810546Z"
    },
    "papermill": {
     "duration": 0.040902,
     "end_time": "2024-02-02T14:24:18.814240",
     "exception": false,
     "start_time": "2024-02-02T14:24:18.773338",
     "status": "completed"
    },
    "tags": []
   },
   "outputs": [
    {
     "data": {
      "text/html": [
       "<div>\n",
       "<style scoped>\n",
       "    .dataframe tbody tr th:only-of-type {\n",
       "        vertical-align: middle;\n",
       "    }\n",
       "\n",
       "    .dataframe tbody tr th {\n",
       "        vertical-align: top;\n",
       "    }\n",
       "\n",
       "    .dataframe thead th {\n",
       "        text-align: right;\n",
       "    }\n",
       "</style>\n",
       "<table border=\"1\" class=\"dataframe\">\n",
       "  <thead>\n",
       "    <tr style=\"text-align: right;\">\n",
       "      <th></th>\n",
       "      <th>Brand</th>\n",
       "      <th>Model Name</th>\n",
       "      <th>Processor</th>\n",
       "      <th>Operating System</th>\n",
       "      <th>Storage</th>\n",
       "      <th>RAM</th>\n",
       "      <th>Screen Size</th>\n",
       "      <th>Touch_Screen</th>\n",
       "      <th>Price</th>\n",
       "    </tr>\n",
       "  </thead>\n",
       "  <tbody>\n",
       "    <tr>\n",
       "      <th>442</th>\n",
       "      <td>ASUS</td>\n",
       "      <td>K3405ZF-LY542WS</td>\n",
       "      <td>Core i5</td>\n",
       "      <td>Windows</td>\n",
       "      <td>512</td>\n",
       "      <td>16</td>\n",
       "      <td>35.56</td>\n",
       "      <td>No</td>\n",
       "      <td>64990</td>\n",
       "    </tr>\n",
       "    <tr>\n",
       "      <th>463</th>\n",
       "      <td>HP</td>\n",
       "      <td>15s- fr5011TU</td>\n",
       "      <td>Core i5</td>\n",
       "      <td>Windows</td>\n",
       "      <td>512</td>\n",
       "      <td>16</td>\n",
       "      <td>39.62</td>\n",
       "      <td>No</td>\n",
       "      <td>53990</td>\n",
       "    </tr>\n",
       "    <tr>\n",
       "      <th>607</th>\n",
       "      <td>ASUS</td>\n",
       "      <td>K3605ZC-MBN752WS</td>\n",
       "      <td>Core i7</td>\n",
       "      <td>Windows</td>\n",
       "      <td>1000</td>\n",
       "      <td>16</td>\n",
       "      <td>40.64</td>\n",
       "      <td>No</td>\n",
       "      <td>87990</td>\n",
       "    </tr>\n",
       "    <tr>\n",
       "      <th>120</th>\n",
       "      <td>Apple</td>\n",
       "      <td>MacBook Air</td>\n",
       "      <td>Mac</td>\n",
       "      <td>Mac</td>\n",
       "      <td>256</td>\n",
       "      <td>8</td>\n",
       "      <td>34.54</td>\n",
       "      <td>No</td>\n",
       "      <td>104990</td>\n",
       "    </tr>\n",
       "    <tr>\n",
       "      <th>617</th>\n",
       "      <td>DELL</td>\n",
       "      <td>Latitude 14</td>\n",
       "      <td>Core i7</td>\n",
       "      <td>Windows</td>\n",
       "      <td>512</td>\n",
       "      <td>16</td>\n",
       "      <td>35.56</td>\n",
       "      <td>No</td>\n",
       "      <td>99990</td>\n",
       "    </tr>\n",
       "  </tbody>\n",
       "</table>\n",
       "</div>"
      ],
      "text/plain": [
       "     Brand        Model Name Processor Operating System Storage  RAM  \\\n",
       "442   ASUS   K3405ZF-LY542WS   Core i5          Windows     512  16    \n",
       "463     HP     15s- fr5011TU   Core i5          Windows     512  16    \n",
       "607   ASUS  K3605ZC-MBN752WS   Core i7          Windows    1000  16    \n",
       "120  Apple       MacBook Air       Mac              Mac     256   8    \n",
       "617   DELL       Latitude 14   Core i7          Windows     512  16    \n",
       "\n",
       "    Screen Size Touch_Screen   Price  \n",
       "442       35.56           No   64990  \n",
       "463       39.62           No   53990  \n",
       "607       40.64           No   87990  \n",
       "120       34.54           No  104990  \n",
       "617       35.56           No   99990  "
      ]
     },
     "execution_count": 18,
     "metadata": {},
     "output_type": "execute_result"
    }
   ],
   "source": [
    "df.Price = df.Price.str.replace(\"₹\",\"\")\n",
    "df.Price = df.Price.str.replace(\",\",\"\")\n",
    "df.sample(5)"
   ]
  },
  {
   "cell_type": "code",
   "execution_count": 19,
   "id": "66bdcc89",
   "metadata": {
    "execution": {
     "iopub.execute_input": "2024-02-02T14:24:18.851666Z",
     "iopub.status.busy": "2024-02-02T14:24:18.850883Z",
     "iopub.status.idle": "2024-02-02T14:24:18.858356Z",
     "shell.execute_reply": "2024-02-02T14:24:18.857541Z"
    },
    "papermill": {
     "duration": 0.02888,
     "end_time": "2024-02-02T14:24:18.860689",
     "exception": false,
     "start_time": "2024-02-02T14:24:18.831809",
     "status": "completed"
    },
    "tags": []
   },
   "outputs": [],
   "source": [
    "df[['Storage','RAM','Price']] = df[['Storage','RAM','Price']].astype(int)"
   ]
  },
  {
   "cell_type": "code",
   "execution_count": 20,
   "id": "aa0fb9ba",
   "metadata": {
    "execution": {
     "iopub.execute_input": "2024-02-02T14:24:18.898690Z",
     "iopub.status.busy": "2024-02-02T14:24:18.897735Z",
     "iopub.status.idle": "2024-02-02T14:24:18.904219Z",
     "shell.execute_reply": "2024-02-02T14:24:18.903295Z"
    },
    "papermill": {
     "duration": 0.028218,
     "end_time": "2024-02-02T14:24:18.906580",
     "exception": false,
     "start_time": "2024-02-02T14:24:18.878362",
     "status": "completed"
    },
    "tags": []
   },
   "outputs": [],
   "source": [
    "df[\"Screen Size\"] = df['Screen Size'].astype(float)"
   ]
  },
  {
   "cell_type": "code",
   "execution_count": 21,
   "id": "b8d8d171",
   "metadata": {
    "execution": {
     "iopub.execute_input": "2024-02-02T14:24:18.944289Z",
     "iopub.status.busy": "2024-02-02T14:24:18.943288Z",
     "iopub.status.idle": "2024-02-02T14:24:18.956311Z",
     "shell.execute_reply": "2024-02-02T14:24:18.954794Z"
    },
    "papermill": {
     "duration": 0.034712,
     "end_time": "2024-02-02T14:24:18.959013",
     "exception": false,
     "start_time": "2024-02-02T14:24:18.924301",
     "status": "completed"
    },
    "tags": []
   },
   "outputs": [
    {
     "name": "stdout",
     "output_type": "stream",
     "text": [
      "<class 'pandas.core.frame.DataFrame'>\n",
      "Int64Index: 825 entries, 0 to 836\n",
      "Data columns (total 9 columns):\n",
      " #   Column            Non-Null Count  Dtype  \n",
      "---  ------            --------------  -----  \n",
      " 0   Brand             825 non-null    object \n",
      " 1   Model Name        825 non-null    object \n",
      " 2   Processor         825 non-null    object \n",
      " 3   Operating System  825 non-null    object \n",
      " 4   Storage           825 non-null    int32  \n",
      " 5   RAM               825 non-null    int32  \n",
      " 6   Screen Size       825 non-null    float64\n",
      " 7   Touch_Screen      825 non-null    object \n",
      " 8   Price             825 non-null    int32  \n",
      "dtypes: float64(1), int32(3), object(5)\n",
      "memory usage: 54.8+ KB\n"
     ]
    }
   ],
   "source": [
    "df.info()"
   ]
  },
  {
   "cell_type": "code",
   "execution_count": 22,
   "id": "d2fa6dc4",
   "metadata": {
    "execution": {
     "iopub.execute_input": "2024-02-02T14:24:18.997892Z",
     "iopub.status.busy": "2024-02-02T14:24:18.997056Z",
     "iopub.status.idle": "2024-02-02T14:24:19.003939Z",
     "shell.execute_reply": "2024-02-02T14:24:19.002758Z"
    },
    "papermill": {
     "duration": 0.028648,
     "end_time": "2024-02-02T14:24:19.006400",
     "exception": false,
     "start_time": "2024-02-02T14:24:18.977752",
     "status": "completed"
    },
    "tags": []
   },
   "outputs": [],
   "source": [
    "df.drop(columns=\"Model Name\",inplace=True)"
   ]
  },
  {
   "cell_type": "code",
   "execution_count": 23,
   "id": "11cc1449",
   "metadata": {
    "execution": {
     "iopub.execute_input": "2024-02-02T14:24:19.106593Z",
     "iopub.status.busy": "2024-02-02T14:24:19.106181Z",
     "iopub.status.idle": "2024-02-02T14:24:19.122023Z",
     "shell.execute_reply": "2024-02-02T14:24:19.120777Z"
    },
    "papermill": {
     "duration": 0.038782,
     "end_time": "2024-02-02T14:24:19.124899",
     "exception": false,
     "start_time": "2024-02-02T14:24:19.086117",
     "status": "completed"
    },
    "tags": []
   },
   "outputs": [
    {
     "data": {
      "text/html": [
       "<div>\n",
       "<style scoped>\n",
       "    .dataframe tbody tr th:only-of-type {\n",
       "        vertical-align: middle;\n",
       "    }\n",
       "\n",
       "    .dataframe tbody tr th {\n",
       "        vertical-align: top;\n",
       "    }\n",
       "\n",
       "    .dataframe thead th {\n",
       "        text-align: right;\n",
       "    }\n",
       "</style>\n",
       "<table border=\"1\" class=\"dataframe\">\n",
       "  <thead>\n",
       "    <tr style=\"text-align: right;\">\n",
       "      <th></th>\n",
       "      <th>Brand</th>\n",
       "      <th>Processor</th>\n",
       "      <th>Operating System</th>\n",
       "      <th>Storage</th>\n",
       "      <th>RAM</th>\n",
       "      <th>Screen Size</th>\n",
       "      <th>Touch_Screen</th>\n",
       "      <th>Price</th>\n",
       "    </tr>\n",
       "  </thead>\n",
       "  <tbody>\n",
       "    <tr>\n",
       "      <th>360</th>\n",
       "      <td>Lenovo</td>\n",
       "      <td>Ryzen 3</td>\n",
       "      <td>Windows</td>\n",
       "      <td>512</td>\n",
       "      <td>8</td>\n",
       "      <td>39.62</td>\n",
       "      <td>No</td>\n",
       "      <td>33999</td>\n",
       "    </tr>\n",
       "  </tbody>\n",
       "</table>\n",
       "</div>"
      ],
      "text/plain": [
       "      Brand Processor Operating System  Storage  RAM  Screen Size  \\\n",
       "360  Lenovo   Ryzen 3          Windows      512    8        39.62   \n",
       "\n",
       "    Touch_Screen  Price  \n",
       "360           No  33999  "
      ]
     },
     "execution_count": 23,
     "metadata": {},
     "output_type": "execute_result"
    }
   ],
   "source": [
    "df.sample()"
   ]
  },
  {
   "cell_type": "code",
   "execution_count": 24,
   "id": "896f4e1b",
   "metadata": {
    "execution": {
     "iopub.execute_input": "2024-02-02T14:24:19.163623Z",
     "iopub.status.busy": "2024-02-02T14:24:19.163238Z",
     "iopub.status.idle": "2024-02-02T14:24:19.456734Z",
     "shell.execute_reply": "2024-02-02T14:24:19.455580Z"
    },
    "papermill": {
     "duration": 0.315661,
     "end_time": "2024-02-02T14:24:19.459261",
     "exception": false,
     "start_time": "2024-02-02T14:24:19.143600",
     "status": "completed"
    },
    "tags": []
   },
   "outputs": [
    {
     "data": {
      "text/plain": [
       "<Axes: >"
      ]
     },
     "execution_count": 24,
     "metadata": {},
     "output_type": "execute_result"
    },
    {
     "data": {
      "image/png": "[encoded data removed]",
      "text/plain": [
       "<Figure size 640x480 with 2 Axes>"
      ]
     },
     "metadata": {},
     "output_type": "display_data"
    }
   ],
   "source": [
    "sns.heatmap(df.corr(numeric_only=True))"
   ]
  },
  {
   "cell_type": "code",
   "execution_count": 25,
   "id": "109dac41",
   "metadata": {
    "execution": {
     "iopub.execute_input": "2024-02-02T14:24:19.498992Z",
     "iopub.status.busy": "2024-02-02T14:24:19.498601Z",
     "iopub.status.idle": "2024-02-02T14:24:19.925972Z",
     "shell.execute_reply": "2024-02-02T14:24:19.924609Z"
    },
    "papermill": {
     "duration": 0.45068,
     "end_time": "2024-02-02T14:24:19.928992",
     "exception": false,
     "start_time": "2024-02-02T14:24:19.478312",
     "status": "completed"
    },
    "tags": []
   },
   "outputs": [
    {
     "name": "stderr",
     "output_type": "stream",
     "text": [
      "C:\\Users\\abdul\\AppData\\Local\\Temp\\ipykernel_11732\\824416946.py:1: UserWarning: \n",
      "\n",
      "`distplot` is a deprecated function and will be removed in seaborn v0.14.0.\n",
      "\n",
      "Please adapt your code to use either `displot` (a figure-level function with\n",
      "similar flexibility) or `histplot` (an axes-level function for histograms).\n",
      "\n",
      "For a guide to updating your code to use the new functions, please see\n",
      "https://gist.github.com/mwaskom/de44147ed2974457ad6372750bbe5751\n",
      "\n",
      "  sns.distplot(df.Price)\n"
     ]
    },
    {
     "data": {
      "text/plain": [
       "<Axes: xlabel='Price', ylabel='Density'>"
      ]
     },
     "execution_count": 25,
     "metadata": {},
     "output_type": "execute_result"
    },
    {
     "data": {
      "image/png": "[encoded data removed]",
      "text/plain": [
       "<Figure size 640x480 with 1 Axes>"
      ]
     },
     "metadata": {},
     "output_type": "display_data"
    }
   ],
   "source": [
    "sns.distplot(df.Price)"
   ]
  },
  {
   "cell_type": "code",
   "execution_count": 26,
   "id": "e3552e97",
   "metadata": {
    "execution": {
     "iopub.execute_input": "2024-02-02T14:24:19.971104Z",
     "iopub.status.busy": "2024-02-02T14:24:19.970654Z",
     "iopub.status.idle": "2024-02-02T14:24:20.275001Z",
     "shell.execute_reply": "2024-02-02T14:24:20.273789Z"
    },
    "papermill": {
     "duration": 0.329913,
     "end_time": "2024-02-02T14:24:20.278868",
     "exception": false,
     "start_time": "2024-02-02T14:24:19.948955",
     "status": "completed"
    },
    "tags": []
   },
   "outputs": [
    {
     "data": {
      "text/plain": [
       "<Axes: >"
      ]
     },
     "execution_count": 26,
     "metadata": {},
     "output_type": "execute_result"
    },
    {
     "data": {
      "image/png": "[encoded data removed]",
      "text/plain": [
       "<Figure size 640x480 with 1 Axes>"
      ]
     },
     "metadata": {},
     "output_type": "display_data"
    }
   ],
   "source": [
    "df['Processor'].value_counts().plot(kind = 'bar')"
   ]
  },
  {
   "cell_type": "code",
   "execution_count": 27,
   "id": "36bb26dc",
   "metadata": {
    "execution": {
     "iopub.execute_input": "2024-02-02T14:24:20.324719Z",
     "iopub.status.busy": "2024-02-02T14:24:20.324290Z",
     "iopub.status.idle": "2024-02-02T14:24:20.333290Z",
     "shell.execute_reply": "2024-02-02T14:24:20.332432Z"
    },
    "papermill": {
     "duration": 0.033192,
     "end_time": "2024-02-02T14:24:20.335454",
     "exception": false,
     "start_time": "2024-02-02T14:24:20.302262",
     "status": "completed"
    },
    "tags": []
   },
   "outputs": [
    {
     "data": {
      "text/plain": [
       "HP           423\n",
       "ASUS         142\n",
       "DELL          59\n",
       "Lenovo        55\n",
       "Acer          36\n",
       "MSI           32\n",
       "Infinix       29\n",
       "Apple         11\n",
       "SAMSUNG        9\n",
       "CHUWI          7\n",
       "GIGABYTE       5\n",
       "WINGS          4\n",
       "ZEBRONICS      4\n",
       "MICROSOFT      3\n",
       "Ultimus        2\n",
       "LG             2\n",
       "realme         1\n",
       "Primebook      1\n",
       "Name: Brand, dtype: int64"
      ]
     },
     "execution_count": 27,
     "metadata": {},
     "output_type": "execute_result"
    }
   ],
   "source": [
    "df['Brand'].value_counts()"
   ]
  },
  {
   "cell_type": "code",
   "execution_count": 28,
   "id": "4c2ab2c4",
   "metadata": {
    "execution": {
     "iopub.execute_input": "2024-02-02T14:24:20.383176Z",
     "iopub.status.busy": "2024-02-02T14:24:20.382756Z",
     "iopub.status.idle": "2024-02-02T14:24:20.391307Z",
     "shell.execute_reply": "2024-02-02T14:24:20.390176Z"
    },
    "papermill": {
     "duration": 0.036247,
     "end_time": "2024-02-02T14:24:20.393817",
     "exception": false,
     "start_time": "2024-02-02T14:24:20.357570",
     "status": "completed"
    },
    "tags": []
   },
   "outputs": [],
   "source": [
    "rare_b = ['SAMSUNG','GIGABYTE','CHUWI','WINGS','ZEBRONICS','Ultimus','LG','realme','Primebook','MICROSOFT']\n",
    "df.Brand = df.Brand.apply(lambda x: \"Others\" if x in rare_b else x)"
   ]
  },
  {
   "cell_type": "code",
   "execution_count": 29,
   "id": "523db3a4",
   "metadata": {
    "execution": {
     "iopub.execute_input": "2024-02-02T14:24:20.439362Z",
     "iopub.status.busy": "2024-02-02T14:24:20.438971Z",
     "iopub.status.idle": "2024-02-02T14:24:20.687849Z",
     "shell.execute_reply": "2024-02-02T14:24:20.686641Z"
    },
    "papermill": {
     "duration": 0.275622,
     "end_time": "2024-02-02T14:24:20.690636",
     "exception": false,
     "start_time": "2024-02-02T14:24:20.415014",
     "status": "completed"
    },
    "tags": []
   },
   "outputs": [
    {
     "data": {
      "text/plain": [
       "<Axes: >"
      ]
     },
     "execution_count": 29,
     "metadata": {},
     "output_type": "execute_result"
    },
    {
     "data": {
      "image/png": "[encoded data removed]",
      "text/plain": [
       "<Figure size 640x480 with 1 Axes>"
      ]
     },
     "metadata": {},
     "output_type": "display_data"
    }
   ],
   "source": [
    "df['Brand'].value_counts().plot(kind = 'bar')"
   ]
  },
  {
   "cell_type": "code",
   "execution_count": 30,
   "id": "cd5598e6",
   "metadata": {
    "execution": {
     "iopub.execute_input": "2024-02-02T14:24:20.736044Z",
     "iopub.status.busy": "2024-02-02T14:24:20.735596Z",
     "iopub.status.idle": "2024-02-02T14:24:21.222194Z",
     "shell.execute_reply": "2024-02-02T14:24:21.220897Z"
    },
    "papermill": {
     "duration": 0.51217,
     "end_time": "2024-02-02T14:24:21.224758",
     "exception": false,
     "start_time": "2024-02-02T14:24:20.712588",
     "status": "completed"
    },
    "tags": []
   },
   "outputs": [
    {
     "data": {
      "image/png": "[encoded data removed]",
      "text/plain": [
       "<Figure size 640x480 with 1 Axes>"
      ]
     },
     "metadata": {},
     "output_type": "display_data"
    }
   ],
   "source": [
    "sns.barplot(x=df.Brand,y=df.Price)\n",
    "plt.xticks(rotation = 'vertical')\n",
    "plt.show()"
   ]
  },
  {
   "cell_type": "code",
   "execution_count": 31,
   "id": "7cb9c661",
   "metadata": {
    "execution": {
     "iopub.execute_input": "2024-02-02T14:24:21.271967Z",
     "iopub.status.busy": "2024-02-02T14:24:21.271241Z",
     "iopub.status.idle": "2024-02-02T14:24:21.519211Z",
     "shell.execute_reply": "2024-02-02T14:24:21.518049Z"
    },
    "papermill": {
     "duration": 0.273538,
     "end_time": "2024-02-02T14:24:21.521760",
     "exception": false,
     "start_time": "2024-02-02T14:24:21.248222",
     "status": "completed"
    },
    "tags": []
   },
   "outputs": [
    {
     "data": {
      "image/png": "[encoded data removed]",
      "text/plain": [
       "<Figure size 640x480 with 1 Axes>"
      ]
     },
     "metadata": {},
     "output_type": "display_data"
    }
   ],
   "source": [
    "sns.barplot(x=df['Operating System'],y=df.Price)\n",
    "plt.xticks(rotation = \"vertical\")\n",
    "plt.show()"
   ]
  },
  {
   "cell_type": "code",
   "execution_count": 32,
   "id": "c29eed15",
   "metadata": {
    "execution": {
     "iopub.execute_input": "2024-02-02T14:24:21.567584Z",
     "iopub.status.busy": "2024-02-02T14:24:21.567134Z",
     "iopub.status.idle": "2024-02-02T14:24:21.572440Z",
     "shell.execute_reply": "2024-02-02T14:24:21.571255Z"
    },
    "papermill": {
     "duration": 0.030985,
     "end_time": "2024-02-02T14:24:21.574754",
     "exception": false,
     "start_time": "2024-02-02T14:24:21.543769",
     "status": "completed"
    },
    "tags": []
   },
   "outputs": [],
   "source": [
    "from sklearn.pipeline import Pipeline\n",
    "from sklearn.model_selection import train_test_split"
   ]
  },
  {
   "cell_type": "code",
   "execution_count": 33,
   "id": "20e0bc1f",
   "metadata": {
    "execution": {
     "iopub.execute_input": "2024-02-02T14:24:21.620808Z",
     "iopub.status.busy": "2024-02-02T14:24:21.619676Z",
     "iopub.status.idle": "2024-02-02T14:24:21.986688Z",
     "shell.execute_reply": "2024-02-02T14:24:21.985419Z"
    },
    "papermill": {
     "duration": 0.392796,
     "end_time": "2024-02-02T14:24:21.989420",
     "exception": false,
     "start_time": "2024-02-02T14:24:21.596624",
     "status": "completed"
    },
    "tags": []
   },
   "outputs": [
    {
     "name": "stderr",
     "output_type": "stream",
     "text": [
      "C:\\Users\\abdul\\AppData\\Local\\Temp\\ipykernel_11732\\3309387210.py:3: UserWarning: \n",
      "\n",
      "`distplot` is a deprecated function and will be removed in seaborn v0.14.0.\n",
      "\n",
      "Please adapt your code to use either `displot` (a figure-level function with\n",
      "similar flexibility) or `histplot` (an axes-level function for histograms).\n",
      "\n",
      "For a guide to updating your code to use the new functions, please see\n",
      "https://gist.github.com/mwaskom/de44147ed2974457ad6372750bbe5751\n",
      "\n",
      "  sns.distplot(Y)\n"
     ]
    },
    {
     "data": {
      "text/plain": [
       "<Axes: xlabel='Price', ylabel='Density'>"
      ]
     },
     "execution_count": 33,
     "metadata": {},
     "output_type": "execute_result"
    },
    {
     "data": {
      "image/png": "[encoded data removed]",
      "text/plain": [
       "<Figure size 640x480 with 1 Axes>"
      ]
     },
     "metadata": {},
     "output_type": "display_data"
    }
   ],
   "source": [
    "X= df.drop(columns=\"Price\")\n",
    "Y = np.log(df['Price'])\n",
    "sns.distplot(Y)"
   ]
  },
  {
   "cell_type": "code",
   "execution_count": 34,
   "id": "33fd04dc",
   "metadata": {
    "execution": {
     "iopub.execute_input": "2024-02-02T14:24:22.036834Z",
     "iopub.status.busy": "2024-02-02T14:24:22.036406Z",
     "iopub.status.idle": "2024-02-02T14:24:22.045263Z",
     "shell.execute_reply": "2024-02-02T14:24:22.044222Z"
    },
    "papermill": {
     "duration": 0.035437,
     "end_time": "2024-02-02T14:24:22.047602",
     "exception": false,
     "start_time": "2024-02-02T14:24:22.012165",
     "status": "completed"
    },
    "tags": []
   },
   "outputs": [],
   "source": [
    "X_train,X_test,Y_train,Y_test = train_test_split(X,Y,test_size=0.2,random_state=83)"
   ]
  },
  {
   "cell_type": "code",
   "execution_count": 35,
   "id": "7538afde",
   "metadata": {
    "execution": {
     "iopub.execute_input": "2024-02-02T14:24:22.100581Z",
     "iopub.status.busy": "2024-02-02T14:24:22.096813Z",
     "iopub.status.idle": "2024-02-02T14:24:22.119995Z",
     "shell.execute_reply": "2024-02-02T14:24:22.118624Z"
    },
    "papermill": {
     "duration": 0.05211,
     "end_time": "2024-02-02T14:24:22.122435",
     "exception": false,
     "start_time": "2024-02-02T14:24:22.070325",
     "status": "completed"
    },
    "tags": []
   },
   "outputs": [
    {
     "data": {
      "text/html": [
       "<div>\n",
       "<style scoped>\n",
       "    .dataframe tbody tr th:only-of-type {\n",
       "        vertical-align: middle;\n",
       "    }\n",
       "\n",
       "    .dataframe tbody tr th {\n",
       "        vertical-align: top;\n",
       "    }\n",
       "\n",
       "    .dataframe thead th {\n",
       "        text-align: right;\n",
       "    }\n",
       "</style>\n",
       "<table border=\"1\" class=\"dataframe\">\n",
       "  <thead>\n",
       "    <tr style=\"text-align: right;\">\n",
       "      <th></th>\n",
       "      <th>Brand</th>\n",
       "      <th>Processor</th>\n",
       "      <th>Operating System</th>\n",
       "      <th>Storage</th>\n",
       "      <th>RAM</th>\n",
       "      <th>Screen Size</th>\n",
       "      <th>Touch_Screen</th>\n",
       "    </tr>\n",
       "  </thead>\n",
       "  <tbody>\n",
       "    <tr>\n",
       "      <th>24</th>\n",
       "      <td>HP</td>\n",
       "      <td>Core i3</td>\n",
       "      <td>Windows</td>\n",
       "      <td>512</td>\n",
       "      <td>8</td>\n",
       "      <td>39.62</td>\n",
       "      <td>No</td>\n",
       "    </tr>\n",
       "    <tr>\n",
       "      <th>435</th>\n",
       "      <td>HP</td>\n",
       "      <td>Core i3</td>\n",
       "      <td>Windows</td>\n",
       "      <td>512</td>\n",
       "      <td>8</td>\n",
       "      <td>39.62</td>\n",
       "      <td>No</td>\n",
       "    </tr>\n",
       "    <tr>\n",
       "      <th>559</th>\n",
       "      <td>DELL</td>\n",
       "      <td>Core i7</td>\n",
       "      <td>Windows</td>\n",
       "      <td>512</td>\n",
       "      <td>16</td>\n",
       "      <td>34.04</td>\n",
       "      <td>Yes</td>\n",
       "    </tr>\n",
       "    <tr>\n",
       "      <th>380</th>\n",
       "      <td>HP</td>\n",
       "      <td>Core i5</td>\n",
       "      <td>Windows</td>\n",
       "      <td>512</td>\n",
       "      <td>16</td>\n",
       "      <td>39.62</td>\n",
       "      <td>No</td>\n",
       "    </tr>\n",
       "    <tr>\n",
       "      <th>466</th>\n",
       "      <td>HP</td>\n",
       "      <td>Core i3</td>\n",
       "      <td>Windows</td>\n",
       "      <td>512</td>\n",
       "      <td>8</td>\n",
       "      <td>39.62</td>\n",
       "      <td>No</td>\n",
       "    </tr>\n",
       "    <tr>\n",
       "      <th>...</th>\n",
       "      <td>...</td>\n",
       "      <td>...</td>\n",
       "      <td>...</td>\n",
       "      <td>...</td>\n",
       "      <td>...</td>\n",
       "      <td>...</td>\n",
       "      <td>...</td>\n",
       "    </tr>\n",
       "    <tr>\n",
       "      <th>833</th>\n",
       "      <td>DELL</td>\n",
       "      <td>Core i3</td>\n",
       "      <td>Windows</td>\n",
       "      <td>1000</td>\n",
       "      <td>8</td>\n",
       "      <td>35.56</td>\n",
       "      <td>Yes</td>\n",
       "    </tr>\n",
       "    <tr>\n",
       "      <th>263</th>\n",
       "      <td>Infinix</td>\n",
       "      <td>Core i5</td>\n",
       "      <td>Windows</td>\n",
       "      <td>512</td>\n",
       "      <td>16</td>\n",
       "      <td>39.62</td>\n",
       "      <td>No</td>\n",
       "    </tr>\n",
       "    <tr>\n",
       "      <th>819</th>\n",
       "      <td>HP</td>\n",
       "      <td>Core i5</td>\n",
       "      <td>Windows</td>\n",
       "      <td>512</td>\n",
       "      <td>8</td>\n",
       "      <td>39.62</td>\n",
       "      <td>No</td>\n",
       "    </tr>\n",
       "    <tr>\n",
       "      <th>545</th>\n",
       "      <td>HP</td>\n",
       "      <td>Core i3</td>\n",
       "      <td>Windows</td>\n",
       "      <td>512</td>\n",
       "      <td>8</td>\n",
       "      <td>39.62</td>\n",
       "      <td>No</td>\n",
       "    </tr>\n",
       "    <tr>\n",
       "      <th>86</th>\n",
       "      <td>HP</td>\n",
       "      <td>Ryzen 5</td>\n",
       "      <td>Windows</td>\n",
       "      <td>512</td>\n",
       "      <td>16</td>\n",
       "      <td>35.56</td>\n",
       "      <td>No</td>\n",
       "    </tr>\n",
       "  </tbody>\n",
       "</table>\n",
       "<p>660 rows × 7 columns</p>\n",
       "</div>"
      ],
      "text/plain": [
       "       Brand Processor Operating System  Storage  RAM  Screen Size  \\\n",
       "24        HP   Core i3          Windows      512    8        39.62   \n",
       "435       HP   Core i3          Windows      512    8        39.62   \n",
       "559     DELL   Core i7          Windows      512   16        34.04   \n",
       "380       HP   Core i5          Windows      512   16        39.62   \n",
       "466       HP   Core i3          Windows      512    8        39.62   \n",
       "..       ...       ...              ...      ...  ...          ...   \n",
       "833     DELL   Core i3          Windows     1000    8        35.56   \n",
       "263  Infinix   Core i5          Windows      512   16        39.62   \n",
       "819       HP   Core i5          Windows      512    8        39.62   \n",
       "545       HP   Core i3          Windows      512    8        39.62   \n",
       "86        HP   Ryzen 5          Windows      512   16        35.56   \n",
       "\n",
       "    Touch_Screen  \n",
       "24            No  \n",
       "435           No  \n",
       "559          Yes  \n",
       "380           No  \n",
       "466           No  \n",
       "..           ...  \n",
       "833          Yes  \n",
       "263           No  \n",
       "819           No  \n",
       "545           No  \n",
       "86            No  \n",
       "\n",
       "[660 rows x 7 columns]"
      ]
     },
     "execution_count": 35,
     "metadata": {},
     "output_type": "execute_result"
    }
   ],
   "source": [
    "X_train"
   ]
  },
  {
   "cell_type": "code",
   "execution_count": 36,
   "id": "3bbf1f08",
   "metadata": {
    "execution": {
     "iopub.execute_input": "2024-02-02T14:24:22.173076Z",
     "iopub.status.busy": "2024-02-02T14:24:22.171789Z",
     "iopub.status.idle": "2024-02-02T14:24:22.221520Z",
     "shell.execute_reply": "2024-02-02T14:24:22.219938Z"
    },
    "papermill": {
     "duration": 0.078549,
     "end_time": "2024-02-02T14:24:22.225828",
     "exception": false,
     "start_time": "2024-02-02T14:24:22.147279",
     "status": "completed"
    },
    "tags": []
   },
   "outputs": [
    {
     "name": "stdout",
     "output_type": "stream",
     "text": [
      "R2 score 0.7634769123172199\n",
      "MAE 0.14500909939243598\n"
     ]
    }
   ],
   "source": [
    "step_1 = ColumnTransformer(transformers=[\n",
    "    ('col_tnf', OneHotEncoder(sparse_output=False, drop='first'),[0,1,2,6])\n",
    "],remainder='passthrough')\n",
    "step_2  = LinearRegression()\n",
    "pipe = Pipeline([('step1',step_1),\n",
    "                ('step2',step_2)])\n",
    "pipe.fit(X_train,Y_train)\n",
    "y_pred = pipe.predict(X_test)\n",
    "\n",
    "print('R2 score',r2_score(Y_test,y_pred))\n",
    "print('MAE',mean_absolute_error(Y_test,y_pred))\n"
   ]
  },
  {
   "cell_type": "code",
   "execution_count": 37,
   "id": "52d76121",
   "metadata": {
    "execution": {
     "iopub.execute_input": "2024-02-02T14:24:22.330109Z",
     "iopub.status.busy": "2024-02-02T14:24:22.328859Z",
     "iopub.status.idle": "2024-02-02T14:24:22.640931Z",
     "shell.execute_reply": "2024-02-02T14:24:22.639199Z"
    },
    "papermill": {
     "duration": 0.365518,
     "end_time": "2024-02-02T14:24:22.644358",
     "exception": false,
     "start_time": "2024-02-02T14:24:22.278840",
     "status": "completed"
    },
    "tags": []
   },
   "outputs": [
    {
     "name": "stdout",
     "output_type": "stream",
     "text": [
      "R2 score 0.7438792224106039\n",
      "MAE 0.14016726713708574\n"
     ]
    }
   ],
   "source": [
    "step_1 = ColumnTransformer(transformers=[\n",
    "    ('col_tnf', OneHotEncoder(sparse_output=False, drop='first',handle_unknown=\"ignore\"),[0,1,2,6])\n",
    "],remainder='passthrough')\n",
    "step_2  = RandomForestRegressor()\n",
    "pipe_rf = Pipeline([('step1',step_1),\n",
    "                ('step2',step_2)])\n",
    "pipe_rf.fit(X_train,Y_train)\n",
    "y_pred = pipe_rf.predict(X_test)\n",
    "\n",
    "print('Random Forest: R2 score',r2_score(Y_test,y_pred))\n",
    "print('MAE',mean_absolute_error(Y_test,y_pred))\n"
   ]
  },
  {
   "cell_type": "code",
   "execution_count": 38,
   "id": "5b0a880a",
   "metadata": {
    "execution": {
     "iopub.execute_input": "2024-02-02T14:24:22.694419Z",
     "iopub.status.busy": "2024-02-02T14:24:22.693777Z",
     "iopub.status.idle": "2024-02-02T14:24:22.772421Z",
     "shell.execute_reply": "2024-02-02T14:24:22.770815Z"
    },
    "papermill": {
     "duration": 0.10697,
     "end_time": "2024-02-02T14:24:22.775145",
     "exception": false,
     "start_time": "2024-02-02T14:24:22.668175",
     "status": "completed"
    },
    "tags": []
   },
   "outputs": [
    {
     "name": "stdout",
     "output_type": "stream",
     "text": [
      "R2 score 0.6892977228137436\n",
      "MAE 0.17038053656080768\n"
     ]
    }
   ],
   "source": [
    "step_1 = ColumnTransformer(transformers=[\n",
    "    ('col_tnf', OneHotEncoder(sparse_output=False, drop='first'),[0,1,2,6])\n",
    "],remainder='passthrough')\n",
    "step_2  = KNeighborsRegressor(n_neighbors=3)\n",
    "pipe = Pipeline([('step1',step_1),\n",
    "                ('step2',step_2)])\n",
    "pipe.fit(X_train,Y_train)\n",
    "y_pred = pipe.predict(X_test)\n",
    "\n",
    "print('R2 score',r2_score(Y_test,y_pred))\n",
    "print('MAE',mean_absolute_error(Y_test,y_pred))\n"
   ]
  },
  {
   "cell_type": "code",
   "execution_count": 39,
   "id": "4c12ca93",
   "metadata": {
    "execution": {
     "iopub.execute_input": "2024-02-02T14:24:22.827258Z",
     "iopub.status.busy": "2024-02-02T14:24:22.826122Z",
     "iopub.status.idle": "2024-02-02T14:24:22.851582Z",
     "shell.execute_reply": "2024-02-02T14:24:22.850299Z"
    },
    "papermill": {
     "duration": 0.053717,
     "end_time": "2024-02-02T14:24:22.854011",
     "exception": false,
     "start_time": "2024-02-02T14:24:22.800294",
     "status": "completed"
    },
    "tags": []
   },
   "outputs": [
    {
     "name": "stdout",
     "output_type": "stream",
     "text": [
      "R2 score 0.7041671966983091\n",
      "MAE 0.14673482022901937\n"
     ]
    }
   ],
   "source": [
    "from sklearn.tree import DecisionTreeRegressor\n",
    "step_1 = ColumnTransformer(transformers=[\n",
    "    ('col_tnf', OneHotEncoder(sparse_output=False, drop='first'),[0,1,2,6])\n",
    "],remainder='passthrough')\n",
    "step_2  = DecisionTreeRegressor()\n",
    "pipe = Pipeline([('step1',step_1),\n",
    "                ('step2',step_2)])\n",
    "pipe.fit(X_train,Y_train)\n",
    "y_pred = pipe.predict(X_test)\n",
    "\n",
    "print('R2 score',r2_score(Y_test,y_pred))\n",
    "print('MAE',mean_absolute_error(Y_test,y_pred))\n"
   ]
  },
  {
   "cell_type": "code",
   "execution_count": 40,
   "id": "15e3f620",
   "metadata": {
    "execution": {
     "iopub.execute_input": "2024-02-02T14:24:22.904289Z",
     "iopub.status.busy": "2024-02-02T14:24:22.903332Z",
     "iopub.status.idle": "2024-02-02T14:24:23.204168Z",
     "shell.execute_reply": "2024-02-02T14:24:23.203227Z"
    },
    "papermill": {
     "duration": 0.329091,
     "end_time": "2024-02-02T14:24:23.206915",
     "exception": false,
     "start_time": "2024-02-02T14:24:22.877824",
     "status": "completed"
    },
    "tags": []
   },
   "outputs": [
    {
     "name": "stdout",
     "output_type": "stream",
     "text": [
      "R2 score 0.7650427928827509\n",
      "MAE 0.12368078422396044\n"
     ]
    }
   ],
   "source": [
    "from xgboost import XGBRegressor\n",
    "X_train,X_test,Y_train,Y_test = train_test_split(X,Y,test_size=0.2,random_state=100)\n",
    "step_1 = ColumnTransformer(transformers=[\n",
    "    ('col_tnf', OneHotEncoder(sparse_output=False, drop='first'),[0,1,2,6])\n",
    "],remainder='passthrough')\n",
    "step_2 = XGBRegressor(n_estimators=45,max_depth=5,learning_rate=0.5)\n",
    "pipe = Pipeline([('step1',step_1),\n",
    "                ('step2',step_2)])\n",
    "pipe.fit(X_train,Y_train)\n",
    "y_pred = pipe.predict(X_test)\n",
    "\n",
    "print('xgbboost R2 score',r2_score(Y_test,y_pred))\n",
    "print('MAE',mean_absolute_error(Y_test,y_pred))\n"
   ]
  },
  {
   "cell_type": "code",
   "execution_count": null,
   "id": "52fae891",
   "metadata": {
    "execution": {
     "iopub.execute_input": "2024-02-02T14:24:23.260053Z",
     "iopub.status.busy": "2024-02-02T14:24:23.259139Z",
     "iopub.status.idle": "2024-02-02T14:24:24.111983Z",
     "shell.execute_reply": "2024-02-02T14:24:24.110521Z"
    },
    "papermill": {
     "duration": 0.882623,
     "end_time": "2024-02-02T14:24:24.114648",
     "exception": false,
     "start_time": "2024-02-02T14:24:23.232025",
     "status": "completed"
    },
    "tags": []
   },
   "outputs": [
    {
     "name": "stdout",
     "output_type": "stream",
     "text": [
      "R2 score 0.7762794703786464\n",
      "MAE 0.12301810076788297\n"
     ]
    }
   ],
   "source": [
    "step_1 = ColumnTransformer(transformers=[\n",
    "    ('col_tnf', OneHotEncoder(sparse_output=False, drop='first',handle_unknown='infrequent_if_exist'),[0,1,2,6])\n",
    "],remainder='passthrough')\n",
    "step_2 = GradientBoostingRegressor(n_estimators=500,max_depth=15,max_features=0.75,)\n",
    "pipe = Pipeline([('step1',step_1),\n",
    "                ('step2',step_2)])\n",
    "pipe.fit(X_train,Y_train)\n",
    "y_pred = pipe.predict(X_test)\n",
    "\n",
    "print('Gradient Boost: R2 score',r2_score(Y_test,y_pred))\n",
    "\n",
    "# print('MAE',mean_absolute_error(Y_test,y_pred))\n"
   ]
  },
  {
   "cell_type": "code",
   "execution_count": 42,
   "id": "b5616d5c",
   "metadata": {
    "execution": {
     "iopub.execute_input": "2024-02-02T14:24:24.163890Z",
     "iopub.status.busy": "2024-02-02T14:24:24.163443Z",
     "iopub.status.idle": "2024-02-02T14:24:24.171181Z",
     "shell.execute_reply": "2024-02-02T14:24:24.169910Z"
    },
    "papermill": {
     "duration": 0.035129,
     "end_time": "2024-02-02T14:24:24.173565",
     "exception": false,
     "start_time": "2024-02-02T14:24:24.138436",
     "status": "completed"
    },
    "tags": []
   },
   "outputs": [],
   "source": [
    "def best_rs(X,Y):\n",
    "    r2_score_ =[]\n",
    "    try:\n",
    "        for i in range(1,100):\n",
    "            X_train,X_test,Y_train,Y_test = train_test_split(X,Y,test_size=0.2,random_state=i)\n",
    "            pipe_rf.fit(X_train,Y_train)\n",
    "            y_pred = pipe_rf.predict(X_test)\n",
    "            r2_score_.append(r2_score(Y_test,y_pred))\n",
    "        return r2_score_\n",
    "    except ValueError as e:\n",
    "        print(\"error\")"
   ]
  },
  {
   "cell_type": "code",
   "execution_count": 43,
   "id": "04a6b114",
   "metadata": {
    "execution": {
     "iopub.execute_input": "2024-02-02T14:24:24.222575Z",
     "iopub.status.busy": "2024-02-02T14:24:24.222147Z",
     "iopub.status.idle": "2024-02-02T14:24:24.227277Z",
     "shell.execute_reply": "2024-02-02T14:24:24.226093Z"
    },
    "papermill": {
     "duration": 0.032277,
     "end_time": "2024-02-02T14:24:24.229519",
     "exception": false,
     "start_time": "2024-02-02T14:24:24.197242",
     "status": "completed"
    },
    "tags": []
   },
   "outputs": [],
   "source": [
    "import warnings\n",
    "warnings.simplefilter(\"ignore\") "
   ]
  },
  {
   "cell_type": "code",
   "execution_count": 44,
   "id": "ec883b55",
   "metadata": {
    "execution": {
     "iopub.execute_input": "2024-02-02T14:24:24.278283Z",
     "iopub.status.busy": "2024-02-02T14:24:24.277845Z",
     "iopub.status.idle": "2024-02-02T14:24:54.231845Z",
     "shell.execute_reply": "2024-02-02T14:24:54.230547Z"
    },
    "papermill": {
     "duration": 29.98173,
     "end_time": "2024-02-02T14:24:54.234841",
     "exception": false,
     "start_time": "2024-02-02T14:24:24.253111",
     "status": "completed"
    },
    "tags": []
   },
   "outputs": [
    {
     "name": "stdout",
     "output_type": "stream",
     "text": [
      "83\n"
     ]
    }
   ],
   "source": [
    "result = best_rs(X,Y)\n",
    "print(np.argmax(result))"
   ]
  },
  {
   "cell_type": "code",
   "execution_count": 45,
   "id": "be80aeb5",
   "metadata": {
    "execution": {
     "iopub.execute_input": "2024-02-02T14:24:54.284765Z",
     "iopub.status.busy": "2024-02-02T14:24:54.284009Z",
     "iopub.status.idle": "2024-02-02T14:24:54.593322Z",
     "shell.execute_reply": "2024-02-02T14:24:54.591951Z"
    },
    "papermill": {
     "duration": 0.337393,
     "end_time": "2024-02-02T14:24:54.596316",
     "exception": false,
     "start_time": "2024-02-02T14:24:54.258923",
     "status": "completed"
    },
    "tags": []
   },
   "outputs": [
    {
     "name": "stdout",
     "output_type": "stream",
     "text": [
      "R2 score 0.8677354667923868\n",
      "MAE 0.10734806412687181\n"
     ]
    }
   ],
   "source": [
    "X_train,X_test,Y_train,Y_test = train_test_split(X,Y,test_size=0.2,random_state=84)\n",
    "step_1 = ColumnTransformer(transformers=[\n",
    "    ('col_tnf', OneHotEncoder(sparse_output=False, drop='first',handle_unknown=\"ignore\"),[0,1,2,6])\n",
    "],remainder='passthrough')\n",
    "step_2  = RandomForestRegressor()\n",
    "pipe_rf = Pipeline([('step1',step_1),\n",
    "                ('step2',step_2)])\n",
    "pipe_rf.fit(X_train,Y_train)\n",
    "y_pred = pipe_rf.predict(X_test)\n",
    "\n",
    "print('R2 score',r2_score(Y_test,y_pred))\n",
    "print('MAE',mean_absolute_error(Y_test,y_pred))"
   ]
  },
  {
   "cell_type": "code",
   "execution_count": 46,
   "id": "e652752a",
   "metadata": {
    "execution": {
     "iopub.execute_input": "2024-02-02T14:24:54.647290Z",
     "iopub.status.busy": "2024-02-02T14:24:54.645934Z",
     "iopub.status.idle": "2024-02-02T14:40:07.572553Z",
     "shell.execute_reply": "2024-02-02T14:40:07.570898Z"
    },
    "papermill": {
     "duration": 912.978085,
     "end_time": "2024-02-02T14:40:07.598233",
     "exception": false,
     "start_time": "2024-02-02T14:24:54.620148",
     "status": "completed"
    },
    "tags": []
   },
   "outputs": [],
   "source": [
    "np.random.seed(42)\n",
    "from sklearn.model_selection import GridSearchCV\n",
    "param_dist = {'step2__n_estimators': [50,100,150,200,500],\n",
    "              'step2__max_depth': [2, 3, 4, 8, 15,None],\n",
    "              \n",
    "              'step2__max_samples': [0.5, 0.75, 1.0],\n",
    "              'step2__max_features': ['sqrt', 'log2', None],\n",
    "              'step2__criterion': [\"squared_error\", \"absolute_error\"]}\n",
    "\n",
    "cv_rf = GridSearchCV(estimator=pipe_rf, \n",
    "                     cv = 5,\n",
    "                     param_grid=param_dist,\n",
    "                     n_jobs = -1)\n",
    "\n",
    "cv_rf.fit(X,Y)\n",
    "\n",
    "print('Best Parameters using grid search: \\n',\n",
    "      cv_rf.best_params_)"
   ]
  },
  {
   "cell_type": "code",
   "execution_count": null,
   "id": "66eae9cb",
   "metadata": {
    "execution": {
     "iopub.execute_input": "2024-02-02T14:40:07.649059Z",
     "iopub.status.busy": "2024-02-02T14:40:07.648595Z",
     "iopub.status.idle": "2024-02-02T14:40:08.898604Z",
     "shell.execute_reply": "2024-02-02T14:40:08.897020Z"
    },
    "papermill": {
     "duration": 1.279446,
     "end_time": "2024-02-02T14:40:08.901746",
     "exception": false,
     "start_time": "2024-02-02T14:40:07.622300",
     "status": "completed"
    },
    "tags": []
   },
   "outputs": [],
   "source": [
    "X_train,X_test,Y_train,Y_test = train_test_split(X,Y,test_size=0.2,random_state=84)\n",
    "step_1 = ColumnTransformer(transformers=[\n",
    "    ('col_tnf', OneHotEncoder(sparse_output=False, drop='first',handle_unknown='infrequent_if_exist'),[0,1,2,6])\n",
    "],remainder='passthrough')\n",
    "step_2  = RandomForestRegressor(n_estimators=500,\n",
    "                                max_samples=1.0,\n",
    "                                max_features='log2',\n",
    "                                max_depth=15,\n",
    "                                criterion='squared_error'\n",
    ")\n",
    "pipe_rf = Pipeline([('step1',step_1),\n",
    "                ('step2',step_2)])\n",
    "pipe_rf.fit(X_train,Y_train)\n",
    "y_pred = pipe_rf.predict(X_test)\n",
    "\n",
    "print('R2 score',r2_score(Y_test,y_pred))\n",
    "print('MAE',mean_absolute_error(Y_test,y_pred))\n"
   ]
  },
  {
   "cell_type": "code",
   "execution_count": null,
   "id": "68dee608",
   "metadata": {
    "execution": {
     "iopub.execute_input": "2024-02-02T14:40:08.952921Z",
     "iopub.status.busy": "2024-02-02T14:40:08.952479Z",
     "iopub.status.idle": "2024-02-02T14:40:08.993291Z",
     "shell.execute_reply": "2024-02-02T14:40:08.992338Z"
    },
    "papermill": {
     "duration": 0.069739,
     "end_time": "2024-02-02T14:40:08.995868",
     "exception": false,
     "start_time": "2024-02-02T14:40:08.926129",
     "status": "completed"
    },
    "tags": []
   },
   "outputs": [],
   "source": [
    "query = np.array(['Apple','Mac','Mac',256,8,39.23,'No'])\n",
    "\n",
    "query = query.reshape(1,7)\n",
    "np.exp(pipe_rf.predict(query))"
   ]
  },
  {
   "cell_type": "code",
   "execution_count": null,
   "id": "3ba804c6",
   "metadata": {
    "papermill": {
     "duration": 0.025093,
     "end_time": "2024-02-02T14:40:09.046541",
     "exception": false,
     "start_time": "2024-02-02T14:40:09.021448",
     "status": "completed"
    },
    "tags": []
   },
   "outputs": [],
   "source": [
    "import pickle\n",
    "with open('laptop_price_model.pkl', 'wb') as f:\n",
    "    pickle.dump(pipe_rf, f)"
   ]
  }
 ],
 "metadata": {
  "kaggle": {
   "accelerator": "none",
   "dataSources": [
    {
     "datasetId": 4390466,
     "sourceId": 7539919,
     "sourceType": "datasetVersion"
    }
   ],
   "dockerImageVersionId": 30646,
   "isGpuEnabled": false,
   "isInternetEnabled": true,
   "language": "python",
   "sourceType": "notebook"
  },
  "kernelspec": {
   "display_name": "Python 3 (ipykernel)",
   "language": "python",
   "name": "python3"
  },
  "language_info": {
   "codemirror_mode": {
    "name": "ipython",
    "version": 3
   },
   "file_extension": ".py",
   "mimetype": "text/x-python",
   "name": "python",
   "nbconvert_exporter": "python",
   "pygments_lexer": "ipython3",
   "version": "3.11.5"
  },
  "papermill": {
   "default_parameters": {},
   "duration": 959.829416,
   "end_time": "2024-02-02T14:40:11.695946",
   "environment_variables": {},
   "exception": null,
   "input_path": "__notebook__.ipynb",
   "output_path": "__notebook__.ipynb",
   "parameters": {},
   "start_time": "2024-02-02T14:24:11.866530",
   "version": "2.5.0"
  }
 },
 "nbformat": 4,
 "nbformat_minor": 5
}
